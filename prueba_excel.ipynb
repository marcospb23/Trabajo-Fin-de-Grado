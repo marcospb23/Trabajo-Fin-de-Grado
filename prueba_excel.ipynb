{
 "cells": [
  {
   "cell_type": "code",
   "execution_count": 75,
   "id": "6fc60ad3-31ab-4085-bd39-09ea6149416f",
   "metadata": {},
   "outputs": [],
   "source": [
    "import os\n",
    "import openpyxl\n",
    "import numpy as np\n",
    "import matplotlib.pyplot as plt\n",
    "from openpyxl.utils import get_column_letter\n",
    "\n",
    "ruta_carpeta = \"/Users/Usuario/OneDrive/Escritorio/tfg/probeta 1/\"\n",
    "num_ensayos=11\n",
    "nombres_archivos = [f\"ENSAYO_{i}.xlsx\" for i in range(num_ensayos)]\n",
    "\n",
    "# Intervalo de frecuencias de cada canal\n",
    "intervalo_canales = [\n",
    "    (4, 804),      \n",
    "    (810, 1610),   \n",
    "    (1616, 2416),\n",
    "    (2422, 3222),\n",
    "    (3228, 4028),\n",
    "    (4034, 4834),\n",
    "    (4840, 5640),\n",
    "    (5646, 6446),\n",
    "    (6452, 7252),\n",
    "    (7258, 8058)\n",
    "]\n",
    "# Definir las columnas de frecuencia, parte real y parte imaginaria para cada rango\n",
    "frecuencia_col = [1, 4, 7, 10, 13, 16, 19, 22, 25]  # A, D, J\n",
    "real_col = [2, 5, 8, 11, 14, 17, 20, 23, 26]  # B, E, K\n",
    "imagin_col = [3, 6, 9, 12, 15, 18, 21, 24, 27]  # C, F, L\n",
    "# Convertimos estas a letras para el print\n",
    "frecuencia_col_letras = [get_column_letter(col) for col in frecuencia_col]\n",
    "real_col_letras = [get_column_letter(col) for col in real_col]\n",
    "imagin_col_letras = [get_column_letter(col) for col in imagin_col]"
   ]
  },
  {
   "cell_type": "code",
   "execution_count": 61,
   "id": "1b708f3b-8115-460c-a1a1-d2b4d71baec4",
   "metadata": {},
   "outputs": [],
   "source": [
    "# Obtenemos las partes reales e imagin separadas por ensayo, hojas, canales y rangos)\n",
    "data_frecuencias = []\n",
    "data_partes_reales = []\n",
    "data_partes_imagin = []\n",
    "for ensayo_idx, nombre_archivo in enumerate(nombres_archivos):\n",
    "    ruta_archivo = os.path.join(ruta_carpeta, nombre_archivo)\n",
    "    wb = openpyxl.load_workbook(ruta_archivo)\n",
    "#CARGAMOS EL PRIMER ENSAYO Y SUS HOJAS DE BARRIDOS\n",
    "#wb = openpyxl.load_workbook('/Users/Usuario/OneDrive/Escritorio/tfg/probeta 1/ENSAYO_0.xlsx')\n",
    "    sweep1=wb['Sweep_1']\n",
    "    sweep2=wb['Sweep_2']\n",
    "    sweep3=wb['Sweep_3']\n",
    "    \n",
    "    sweeps = [sweep1, sweep2, sweep3]\n",
    "    \n",
    "    if ensayo_idx == 0:  # Solo se almacena una vez porque las frecuencias no cambian entre ensayos\n",
    "        for col in frecuencia_col:\n",
    "            column_data = [sweeps[0].cell(row=i, column=col).value for i in range(4, 805)]\n",
    "            data_frecuencias.append(column_data)\n",
    "\n",
    "    ensayo_partes_reales = []\n",
    "    ensayo_partes_imagin = []\n",
    "    \n",
    "    for sheet in sweeps:\n",
    "        sweep_data_reales = []\n",
    "        sweep_data_imagin = []\n",
    "        for inicio, fin in intervalo_canales:\n",
    "            canal_data_reales = []\n",
    "            canal_data_imagin = []\n",
    "            for col_r, col_i in zip(real_col, imagin_col):\n",
    "                column_data_reales = [sheet.cell(row=i, column=col_r).value for i in range(inicio, fin + 1)]\n",
    "                column_data_imagin = [sheet.cell(row=i, column=col_i).value for i in range(inicio, fin + 1)]\n",
    "                canal_data_reales.append(column_data_reales)\n",
    "                canal_data_imagin.append(column_data_imagin)\n",
    "            sweep_data_reales.append(canal_data_reales)\n",
    "            sweep_data_imagin.append(canal_data_imagin)\n",
    "        ensayo_partes_reales.append(sweep_data_reales)\n",
    "        ensayo_partes_imagin.append(sweep_data_imagin)\n",
    "    data_partes_reales.append(ensayo_partes_reales)\n",
    "    data_partes_imagin.append(ensayo_partes_imagin)\n",
    "# IMPRIMIMOS LOS 5 PRIMEROS VALORES DE CADA RANGO PARA COMPROBAR QUE ES CORRECTO\n",
    "# for idx, sweep_data in enumerate(data_partes_reales, start=1):\n",
    "#     print(f\"\\nSweep {idx}:\")\n",
    "#     for canal_idx, canal in enumerate(sweep_data, start=1):\n",
    "#         #print(f\"  Canal {canal_idx}:\")\n",
    "#         for col_idx, column in enumerate(canal, start=1):\n",
    "#             # Imprimimos los primeros 5 valores de cada columna\n",
    "#             print(f\"    Columna {real_col_letras[col_idx-1]}: {column[:5]} ...\")"
   ]
  },
  {
   "cell_type": "code",
   "execution_count": 74,
   "id": "a155019d-eb2f-4307-9e44-4ac2b3a928ed",
   "metadata": {},
   "outputs": [
    {
     "name": "stdout",
     "output_type": "stream",
     "text": [
      "\n",
      "Partes Reales y Partes Imaginarias:\n"
     ]
    }
   ],
   "source": [
    "# Ahora, imprimir las partes reales y las imaginarias para comprobar la estructura\n",
    "# print(\"\\nPartes Reales y Partes Imaginarias:\")\n",
    "\n",
    "# Recorremos los datos de partes reales e imaginarias\n",
    "# for ensayo_idx, (sweep_reales, sweep_imagin) in enumerate(zip(data_partes_reales, data_partes_imagin), start=1):\n",
    "#     print(f\"\\nEnsayo {ensayo_idx-1}:\")\n",
    "#     for sweep_idx, (sweep_data_reales, sweep_data_imagin) in enumerate(zip(sweep_reales, sweep_imagin), start=1):\n",
    "#         print(f\"  Barrido {sweep_idx}:\")\n",
    "        \n",
    "#         for canal_idx, (canal_reales, canal_imagin) in enumerate(zip(sweep_data_reales, sweep_data_imagin), start=1):\n",
    "#             print(f\"    Canal {canal_idx}:\")\n",
    "#             for col_idx, (column_reales, column_imagin) in enumerate(zip(canal_reales, canal_imagin), start=1):\n",
    "#                 print(f\"      Columna {real_col_letras[col_idx-1]}:\")\n",
    "#                 print(f\"        Parte Real (primeros 5 valores): {column_reales[:5]}\")\n",
    "#                 print(f\"        Parte Imaginaria (primeros 5 valores): {column_imagin[:5]}\")\n"
   ]
  },
  {
   "cell_type": "code",
   "execution_count": 67,
   "id": "0b39879b-96e0-4de3-b68b-71a2d806c8a6",
   "metadata": {},
   "outputs": [],
   "source": [
    "data_frecuencias_np = np.array(data_frecuencias)\n",
    "data_partes_reales_np = np.array(data_partes_reales)\n",
    "data_partes_imagin_np = np.array(data_partes_imagin)"
   ]
  },
  {
   "cell_type": "code",
   "execution_count": 68,
   "id": "b25a0b7e-ff11-4b3a-bd2d-601dadf7ce38",
   "metadata": {},
   "outputs": [
    {
     "data": {
      "text/plain": [
       "(9, 801)"
      ]
     },
     "execution_count": 68,
     "metadata": {},
     "output_type": "execute_result"
    }
   ],
   "source": [
    "data_frecuencias_np.shape"
   ]
  },
  {
   "cell_type": "code",
   "execution_count": 69,
   "id": "6365a812-654f-42f2-bb06-797206ec02ef",
   "metadata": {},
   "outputs": [
    {
     "data": {
      "text/plain": [
       "(11, 3, 10, 9, 801)"
      ]
     },
     "execution_count": 69,
     "metadata": {},
     "output_type": "execute_result"
    }
   ],
   "source": [
    "data_partes_reales_np.shape"
   ]
  },
  {
   "cell_type": "code",
   "execution_count": 70,
   "id": "4240c6d7-20e4-4155-bf5c-e4c96074eebb",
   "metadata": {},
   "outputs": [
    {
     "data": {
      "text/plain": [
       "(11, 3, 10, 9, 801)"
      ]
     },
     "execution_count": 70,
     "metadata": {},
     "output_type": "execute_result"
    }
   ],
   "source": [
    "data_partes_imagin_np.shape"
   ]
  },
  {
   "cell_type": "code",
   "execution_count": 73,
   "id": "27f9dcd5-e2a0-46b1-ba20-cdb3d4278a4a",
   "metadata": {},
   "outputs": [
    {
     "name": "stdout",
     "output_type": "stream",
     "text": [
      "(11, 3, 10, 7209)\n",
      "(11, 3, 10, 7209)\n"
     ]
    }
   ],
   "source": [
    "data_partes_reales_np_reshaped = data_partes_reales_np.reshape(data_partes_reales_np.shape[0], data_partes_reales_np.shape[1], data_partes_reales_np.shape[2], -1)\n",
    "data_partes_imagin_np_reshaped = data_partes_imagin_np.reshape(data_partes_imagin_np.shape[0], data_partes_imagin_np.shape[1], data_partes_imagin_np.shape[2], -1)\n",
    "\n",
    "print( data_partes_reales_np_reshaped.shape)\n",
    "print( data_partes_imagin_np_reshaped.shape)"
   ]
  }
 ],
 "metadata": {
  "kernelspec": {
   "display_name": "Python 3 (ipykernel)",
   "language": "python",
   "name": "python3"
  },
  "language_info": {
   "codemirror_mode": {
    "name": "ipython",
    "version": 3
   },
   "file_extension": ".py",
   "mimetype": "text/x-python",
   "name": "python",
   "nbconvert_exporter": "python",
   "pygments_lexer": "ipython3",
   "version": "3.12.6"
  }
 },
 "nbformat": 4,
 "nbformat_minor": 5
}
