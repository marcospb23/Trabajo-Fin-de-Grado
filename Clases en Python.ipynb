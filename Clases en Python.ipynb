{
 "cells": [
  {
   "cell_type": "code",
   "execution_count": 20,
   "id": "5cfa3c4d-72bd-4f04-8134-f009943443c1",
   "metadata": {},
   "outputs": [
    {
     "name": "stdout",
     "output_type": "stream",
     "text": [
      "Guts:\n",
      "·Fuerza: 20\n",
      "·Inteligencia: 10\n",
      "·Defensa: 4\n",
      "·Vida: 100\n",
      "·Espada: 4\n",
      "Vanessa:\n",
      "·Fuerza: 5\n",
      "·Inteligencia: 15\n",
      "·Defensa: 4\n",
      "·Vida: 100\n",
      "·Libro: 3\n",
      "Guts:\n",
      "·Fuerza: 30\n",
      "·Inteligencia: 7\n",
      "·Defensa: 9\n",
      "·Vida: 100\n",
      "·Espada: 4\n"
     ]
    },
    {
     "name": "stdin",
     "output_type": "stream",
     "text": [
      "Elige un arma: (1) Acero Valyrio, daño 8. (2) Matadragones, daño 10 2\n"
     ]
    },
    {
     "name": "stdout",
     "output_type": "stream",
     "text": [
      "Guts:\n",
      "·Fuerza: 30\n",
      "·Inteligencia: 7\n",
      "·Defensa: 9\n",
      "·Vida: 100\n",
      "·Espada: 10\n",
      "Guts ha muerto\n"
     ]
    },
    {
     "data": {
      "text/plain": [
       "False"
      ]
     },
     "execution_count": 20,
     "metadata": {},
     "output_type": "execute_result"
    }
   ],
   "source": [
    "class Personaje:\n",
    "\n",
    "    def __init__(self, nombre, fuerza, inteligencia, defensa, vida):\n",
    "        self.nombre = nombre\n",
    "        self.fuerza = fuerza\n",
    "        self.inteligencia = inteligencia\n",
    "        self.defensa = defensa\n",
    "        self.vida = vida\n",
    "    \n",
    "    def atributos(self):\n",
    "        print(self.nombre, \":\", sep=\"\")\n",
    "        print(\"·Fuerza:\", self.fuerza)\n",
    "        print(\"·Inteligencia:\", self.inteligencia)\n",
    "        print(\"·Defensa:\", self.defensa)\n",
    "        print(\"·Vida:\", self.vida)\n",
    "\n",
    "    def subir_nivel(self, fuerza, inteligencia, defensa):\n",
    "        self.fuerza = self.fuerza + fuerza\n",
    "        self.inteligencia = self.inteligencia + inteligencia\n",
    "        self.defensa = self.defensa + defensa\n",
    "\n",
    "    def esta_vivo(self):\n",
    "        return self.vida > 0\n",
    "\n",
    "    def morir(self):\n",
    "        self.vida = 0\n",
    "        print(self.nombre, \"ha muerto\")\n",
    "\n",
    "    def daño(self, enemigo):\n",
    "        return self.fuerza - enemigo.defensa\n",
    "\n",
    "    def atacar(self, enemigo):\n",
    "        daño = self.daño(enemigo)\n",
    "        enemigo.vida = enemigo.vida - daño\n",
    "        print(self.nombre, \"ha realizado\", daño, \"puntos de daño a\", enemigo.nombre)\n",
    "        if enemigo.esta_vivo():\n",
    "            print(\"Vida de\", enemigo.nombre, \"es\", enemigo.vida)\n",
    "        else:\n",
    "            enemigo.morir()\n",
    "\n",
    "class Guerrero(Personaje):\n",
    "    \n",
    "    def __init__(self, nombre, fuerza, inteligencia, defensa, vida, espada):\n",
    "        super().__init__(nombre, fuerza, inteligencia, defensa, vida) \n",
    "        self.espada = espada\n",
    "\n",
    "    def cambiar_arma(self):\n",
    "        opcion = int(input(\"Elige un arma: (1) Acero Valyrio, daño 8. (2) Matadragones, daño 10\"))\n",
    "        if opcion == 1:\n",
    "            self.espada = 8\n",
    "        elif opcion == 2:\n",
    "            self.espada = 10\n",
    "        else:\n",
    "            print(\"Número de arma incorrecta\")\n",
    "\n",
    "    def atributos(self):\n",
    "        super().atributos()\n",
    "        print(\"·Espada:\", self.espada)\n",
    "\n",
    "    def daño(self, enemigo):\n",
    "        return self.fuerza*self.espada - enemigo.defensa\n",
    "\n",
    "class Mago(Personaje):\n",
    "\n",
    "    def __init__(self, nombre, fuerza, inteligencia, defensa, vida, libro):\n",
    "        super().__init__(nombre, fuerza, inteligencia, defensa, vida)\n",
    "        self.libro = libro\n",
    "\n",
    "    def atributos(self):\n",
    "        super().atributos()\n",
    "        print(\"·Libro:\", self.libro)\n",
    "\n",
    "    def daño(self, enemigo):\n",
    "        return self.inteligencia*self.libro - enemigo.defensa\n",
    "\n",
    "\n",
    "def combate(jugador_1, jugador_2):\n",
    "    turno = 0\n",
    "    while jugador_1.esta_vivo() and jugador_2.esta_vivo():\n",
    "        print(\"\\nTurno\", turno)\n",
    "        print(\">>> Acción de \", jugador_1.nombre,\":\", sep=\"\")\n",
    "        jugador_1.atacar(jugador_2)\n",
    "        print(\">>> Acción de \", jugador_2.nombre,\":\", sep=\"\")\n",
    "        jugador_2.atacar(jugador_1)\n",
    "        turno = turno + 1\n",
    "    if jugador_1.esta_vivo():\n",
    "        print(\"\\nHa ganado\", jugador_1.nombre)\n",
    "    elif jugador_2.esta_vivo():\n",
    "        print(\"\\nHa ganado\", jugador_2.nombre)\n",
    "    else:\n",
    "        print(\"\\nEmpate\")\n",
    "\n",
    "personaje_1 = Guerrero(\"Guts\", 20, 10, 4, 100, 4)\n",
    "personaje_2 = Mago(\"Vanessa\", 5, 15, 4, 100, 3)\n",
    "\n",
    "personaje_1.atributos()\n",
    "personaje_2.atributos()\n",
    "\n",
    "personaje_1.subir_nivel(10,-3,5)\n",
    "personaje_1.atributos()\n",
    "\n",
    "personaje_1.daño(personaje_2)\n",
    "\n",
    "personaje_1.cambiar_arma()\n",
    "personaje_1.atributos()\n",
    "\n",
    "personaje_1.morir()\n",
    "personaje_1.esta_vivo()\n",
    "\n",
    "#combate(personaje_1, personaje_2)"
   ]
  },
  {
   "cell_type": "markdown",
   "id": "41aaa6ed-1dc9-4024-8755-c3a1832e9937",
   "metadata": {},
   "source": [
    "## "
   ]
  }
 ],
 "metadata": {
  "kernelspec": {
   "display_name": "Python 3 (ipykernel)",
   "language": "python",
   "name": "python3"
  },
  "language_info": {
   "codemirror_mode": {
    "name": "ipython",
    "version": 3
   },
   "file_extension": ".py",
   "mimetype": "text/x-python",
   "name": "python",
   "nbconvert_exporter": "python",
   "pygments_lexer": "ipython3",
   "version": "3.12.6"
  }
 },
 "nbformat": 4,
 "nbformat_minor": 5
}
