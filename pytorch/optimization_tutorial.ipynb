{
 "cells": [
  {
   "cell_type": "code",
   "execution_count": 1,
   "metadata": {
    "collapsed": false,
    "jupyter": {
     "outputs_hidden": false
    }
   },
   "outputs": [],
   "source": [
    "# For tips on running notebooks in Google Colab, see\n",
    "# https://pytorch.org/tutorials/beginner/colab\n",
    "%matplotlib inline"
   ]
  },
  {
   "cell_type": "markdown",
   "metadata": {},
   "source": [
    "[Learn the Basics](intro.html) \\|\\|\n",
    "[Quickstart](quickstart_tutorial.html) \\|\\|\n",
    "[Tensors](tensorqs_tutorial.html) \\|\\| [Datasets &\n",
    "DataLoaders](data_tutorial.html) \\|\\|\n",
    "[Transforms](transforms_tutorial.html) \\|\\| [Build\n",
    "Model](buildmodel_tutorial.html) \\|\\|\n",
    "[Autograd](autogradqs_tutorial.html) \\|\\| **Optimization** \\|\\| [Save &\n",
    "Load Model](saveloadrun_tutorial.html)\n",
    "\n",
    "Optimizing Model Parameters\n",
    "===========================\n",
    "\n",
    "Now that we have a model and data it\\'s time to train, validate and test\n",
    "our model by optimizing its parameters on our data. Training a model is\n",
    "an iterative process; in each iteration the model makes a guess about\n",
    "the output, calculates the error in its guess (*loss*), collects the\n",
    "derivatives of the error with respect to its parameters (as we saw in\n",
    "the [previous section](autograd_tutorial.html)), and **optimizes** these\n",
    "parameters using gradient descent. For a more detailed walkthrough of\n",
    "this process, check out this video on [backpropagation from\n",
    "3Blue1Brown](https://www.youtube.com/watch?v=tIeHLnjs5U8).\n",
    "\n",
    "Prerequisite Code\n",
    "-----------------\n",
    "\n",
    "We load the code from the previous sections on [Datasets &\n",
    "DataLoaders](data_tutorial.html) and [Build\n",
    "Model](buildmodel_tutorial.html).\n"
   ]
  },
  {
   "cell_type": "code",
   "execution_count": 2,
   "metadata": {
    "collapsed": false,
    "jupyter": {
     "outputs_hidden": false
    }
   },
   "outputs": [
    {
     "data": {
      "text/plain": [
       "==========================================================================================\n",
       "Layer (type:depth-idx)                   Output Shape              Param #\n",
       "==========================================================================================\n",
       "NeuralNetwork                            [1, 10]                   --\n",
       "├─Flatten: 1-1                           [1, 784]                  --\n",
       "├─Sequential: 1-2                        [1, 10]                   --\n",
       "│    └─Linear: 2-1                       [1, 512]                  401,920\n",
       "│    └─ReLU: 2-2                         [1, 512]                  --\n",
       "│    └─Linear: 2-3                       [1, 512]                  262,656\n",
       "│    └─ReLU: 2-4                         [1, 512]                  --\n",
       "│    └─Linear: 2-5                       [1, 10]                   5,130\n",
       "==========================================================================================\n",
       "Total params: 669,706\n",
       "Trainable params: 669,706\n",
       "Non-trainable params: 0\n",
       "Total mult-adds (Units.MEGABYTES): 0.67\n",
       "==========================================================================================\n",
       "Input size (MB): 0.00\n",
       "Forward/backward pass size (MB): 0.01\n",
       "Params size (MB): 2.68\n",
       "Estimated Total Size (MB): 2.69\n",
       "=========================================================================================="
      ]
     },
     "execution_count": 2,
     "metadata": {},
     "output_type": "execute_result"
    }
   ],
   "source": [
    "import torch\n",
    "from torch import nn\n",
    "from torch.utils.data import DataLoader\n",
    "from torchvision import datasets\n",
    "from torchvision.transforms import ToTensor\n",
    "from torchinfo import summary\n",
    "\n",
    "training_data = datasets.FashionMNIST(\n",
    "    root=\"data\",\n",
    "    train=True,\n",
    "    download=True,\n",
    "    transform=ToTensor()\n",
    ")\n",
    "\n",
    "test_data = datasets.FashionMNIST(\n",
    "    root=\"data\",\n",
    "    train=False,\n",
    "    download=True,\n",
    "    transform=ToTensor()\n",
    ")\n",
    "\n",
    "train_dataloader = DataLoader(training_data, batch_size=64)\n",
    "test_dataloader = DataLoader(test_data, batch_size=64)\n",
    "\n",
    "class NeuralNetwork(nn.Module):\n",
    "    def __init__(self):\n",
    "        super().__init__()\n",
    "        self.flatten = nn.Flatten()\n",
    "        self.linear_relu_stack = nn.Sequential(\n",
    "            nn.Linear(28*28, 512),\n",
    "            nn.ReLU(),\n",
    "            nn.Linear(512, 512),\n",
    "            nn.ReLU(),\n",
    "            nn.Linear(512, 10),\n",
    "        )\n",
    "\n",
    "    def forward(self, x):\n",
    "        x = self.flatten(x)\n",
    "        logits = self.linear_relu_stack(x)\n",
    "        return logits\n",
    "\n",
    "model = NeuralNetwork()\n",
    "summary(model, input_size=(1, 1, 28, 28)) # (N,C,H,W) N: Tamaño del Batch, C: Numero de canales (1 en escala de grises), H Y W: altura y ancho"
   ]
  },
  {
   "cell_type": "code",
   "execution_count": null,
   "metadata": {},
   "outputs": [],
   "source": []
  },
  {
   "cell_type": "markdown",
   "metadata": {},
   "source": [
    "Hyperparameters\n",
    "===============\n",
    "\n",
    "Hyperparameters are adjustable parameters that let you control the model\n",
    "optimization process. Different hyperparameter values can impact model\n",
    "training and convergence rates ([read\n",
    "more](https://pytorch.org/tutorials/beginner/hyperparameter_tuning_tutorial.html)\n",
    "about hyperparameter tuning)\n",
    "\n",
    "We define the following hyperparameters for training:\n",
    "\n",
    ":   -   **Number of Epochs** - the number times to iterate over the\n",
    "        dataset\n",
    "    -   **Batch Size** - the number of data samples propagated through\n",
    "        the network before the parameters are updated\n",
    "    -   **Learning Rate** - how much to update models parameters at each\n",
    "        batch/epoch. Smaller values yield slow learning speed, while\n",
    "        large values may result in unpredictable behavior during\n",
    "        training.\n"
   ]
  },
  {
   "cell_type": "code",
   "execution_count": 3,
   "metadata": {
    "collapsed": false,
    "jupyter": {
     "outputs_hidden": false
    }
   },
   "outputs": [],
   "source": [
    "learning_rate = 1e-3 # Determina qué tan grandes son los ajustes en los parámetros del modelo después de cada lote o época.\n",
    "batch_size = 64 # Es la cantidad de datos que se pasan por la red antes de actualizar los parámetros\n",
    "epochs = 5 # Una época es una pasada completa por todo el dataset de entrenamiento "
   ]
  },
  {
   "cell_type": "markdown",
   "metadata": {},
   "source": [
    "Optimization Loop\n",
    "=================\n",
    "\n",
    "Once we set our hyperparameters, we can then train and optimize our\n",
    "model with an optimization loop. Each iteration of the optimization loop\n",
    "is called an **epoch**.\n",
    "\n",
    "Each epoch consists of two main parts:\n",
    "\n",
    ":   -   **The Train Loop** - iterate over the training dataset and try\n",
    "        to converge to optimal parameters.\n",
    "    -   **The Validation/Test Loop** - iterate over the test dataset to\n",
    "        check if model performance is improving.\n",
    "\n",
    "Let\\'s briefly familiarize ourselves with some of the concepts used in\n",
    "the training loop. Jump ahead to see the\n",
    "`full-impl-label`{.interpreted-text role=\"ref\"} of the optimization\n",
    "loop.\n",
    "\n",
    "Loss Function\n",
    "-------------\n",
    "\n",
    "When presented with some training data, our untrained network is likely\n",
    "not to give the correct answer. **Loss function** measures the degree of\n",
    "dissimilarity of obtained result to the target value, and it is the loss\n",
    "function that we want to minimize during training. To calculate the loss\n",
    "we make a prediction using the inputs of our given data sample and\n",
    "compare it against the true data label value.\n",
    "\n",
    "Common loss functions include\n",
    "[nn.MSELoss](https://pytorch.org/docs/stable/generated/torch.nn.MSELoss.html#torch.nn.MSELoss)\n",
    "(Mean Square Error) for regression tasks, and\n",
    "[nn.NLLLoss](https://pytorch.org/docs/stable/generated/torch.nn.NLLLoss.html#torch.nn.NLLLoss)\n",
    "(Negative Log Likelihood) for classification.\n",
    "[nn.CrossEntropyLoss](https://pytorch.org/docs/stable/generated/torch.nn.CrossEntropyLoss.html#torch.nn.CrossEntropyLoss)\n",
    "combines `nn.LogSoftmax` and `nn.NLLLoss`.\n",
    "\n",
    "We pass our model\\'s output logits to `nn.CrossEntropyLoss`, which will\n",
    "normalize the logits and compute the prediction error.\n"
   ]
  },
  {
   "cell_type": "code",
   "execution_count": 4,
   "metadata": {
    "collapsed": false,
    "jupyter": {
     "outputs_hidden": false
    }
   },
   "outputs": [],
   "source": [
    "# Initialize the loss function\n",
    "loss_fn = nn.CrossEntropyLoss()"
   ]
  },
  {
   "cell_type": "markdown",
   "metadata": {},
   "source": [
    "Optimizer\n",
    "=========\n",
    "\n",
    "Optimization is the process of adjusting model parameters to reduce\n",
    "model error in each training step. **Optimization algorithms** define\n",
    "how this process is performed (in this example we use Stochastic\n",
    "Gradient Descent). All optimization logic is encapsulated in the\n",
    "`optimizer` object. Here, we use the SGD optimizer; additionally, there\n",
    "are many [different\n",
    "optimizers](https://pytorch.org/docs/stable/optim.html) available in\n",
    "PyTorch such as ADAM and RMSProp, that work better for different kinds\n",
    "of models and data.\n",
    "\n",
    "We initialize the optimizer by registering the model\\'s parameters that\n",
    "need to be trained, and passing in the learning rate hyperparameter.\n"
   ]
  },
  {
   "cell_type": "code",
   "execution_count": 5,
   "metadata": {
    "collapsed": false,
    "jupyter": {
     "outputs_hidden": false
    }
   },
   "outputs": [],
   "source": [
    "optimizer = torch.optim.SGD(model.parameters(), lr=learning_rate)"
   ]
  },
  {
   "cell_type": "markdown",
   "metadata": {},
   "source": [
    "Inside the training loop, optimization happens in three steps:\n",
    "\n",
    ":   -   Call `optimizer.zero_grad()` to reset the gradients of model\n",
    "        parameters. Gradients by default add up; to prevent\n",
    "        double-counting, we explicitly zero them at each iteration.\n",
    "    -   Backpropagate the prediction loss with a call to\n",
    "        `loss.backward()`. PyTorch deposits the gradients of the loss\n",
    "        w.r.t. each parameter.\n",
    "    -   Once we have our gradients, we call `optimizer.step()` to adjust\n",
    "        the parameters by the gradients collected in the backward pass.\n"
   ]
  },
  {
   "cell_type": "markdown",
   "metadata": {},
   "source": [
    "Full Implementation {#full-impl-label}\n",
    "===================\n",
    "\n",
    "We define `train_loop` that loops over our optimization code, and\n",
    "`test_loop` that evaluates the model\\'s performance against our test\n",
    "data.\n"
   ]
  },
  {
   "cell_type": "code",
   "execution_count": 6,
   "metadata": {
    "collapsed": false,
    "jupyter": {
     "outputs_hidden": false
    }
   },
   "outputs": [],
   "source": [
    "def train_loop(dataloader, model, loss_fn, optimizer):\n",
    "    size = len(dataloader.dataset)\n",
    "    # Set the model to training mode - important for batch normalization and dropout layers\n",
    "    # Unnecessary in this situation but added for best practices\n",
    "    model.train()\n",
    "    for batch, (X, y) in enumerate(dataloader): # enumerate(dataloader) nos da un índice batch y el lote (X, y)\n",
    "        # Compute prediction and loss\n",
    "        pred = model(X)\n",
    "        loss = loss_fn(pred, y)\n",
    "\n",
    "        # Backpropagation\n",
    "        loss.backward()         # Backpropagation: calcular los gradientes de la pérdida con respecto a los parámetros del modelo\n",
    "        optimizer.step()        # Actualizar los pesos del modelo con los gradientes calculados\n",
    "        optimizer.zero_grad()   # Reiniciar los gradientes para la siguiente iteración\n",
    "\n",
    "        if batch % 100 == 0:    # Mostrar información de la pérdida cada 100 lotes\n",
    "            loss, current = loss.item(), batch * batch_size + len(X)\n",
    "            print(f\"loss: {loss:>7f}  [{current:>5d}/{size:>5d}]\")\n",
    "\n",
    "\n",
    "def test_loop(dataloader, model, loss_fn):\n",
    "    # Set the model to evaluation mode - important for batch normalization and dropout layers\n",
    "    # Unnecessary in this situation but added for best practices\n",
    "    model.eval()\n",
    "    size = len(dataloader.dataset)\n",
    "    num_batches = len(dataloader)\n",
    "    test_loss, correct = 0, 0  # Inicializar variables para pérdida y precisión\n",
    "\n",
    "    # Evaluating the model with torch.no_grad() ensures that no gradients are computed during test mode\n",
    "    # also serves to reduce unnecessary gradient computations and memory usage for tensors with requires_grad=True\n",
    "    with torch.no_grad(): # Desactivamos el cálculo de gradientes para ahorrar memoria. Solo son necesarios en entrenamiento\n",
    "        for X, y in dataloader:  # Aquí no usamos enumerate() porque no necesitamos contar los lotes\n",
    "            pred = model(X) \n",
    "            test_loss += loss_fn(pred, y).item()       # Acumular la pérdida total\n",
    "            correct += (pred.argmax(1) == y).type(torch.float).sum().item()   # Contar predicciones correctas\n",
    "\n",
    "    test_loss /= num_batches\n",
    "    correct /= size\n",
    "    print(f\"Test Error: \\n Accuracy: {(100*correct):>0.1f}%, Avg loss: {test_loss:>8f} \\n\")"
   ]
  },
  {
   "cell_type": "markdown",
   "metadata": {},
   "source": [
    "We initialize the loss function and optimizer, and pass it to\n",
    "`train_loop` and `test_loop`. Feel free to increase the number of epochs\n",
    "to track the model\\'s improving performance.\n"
   ]
  },
  {
   "cell_type": "code",
   "execution_count": 9,
   "metadata": {
    "collapsed": false,
    "jupyter": {
     "outputs_hidden": false
    }
   },
   "outputs": [
    {
     "name": "stdout",
     "output_type": "stream",
     "text": [
      "Epoch 1\n",
      "-------------------------------\n",
      "loss: 0.766680  [   64/60000]\n",
      "loss: 0.851048  [ 6464/60000]\n",
      "loss: 0.629854  [12864/60000]\n",
      "loss: 0.836193  [19264/60000]\n",
      "loss: 0.736690  [25664/60000]\n",
      "loss: 0.735834  [32064/60000]\n",
      "loss: 0.817540  [38464/60000]\n",
      "loss: 0.787511  [44864/60000]\n",
      "loss: 0.794878  [51264/60000]\n",
      "loss: 0.754600  [57664/60000]\n",
      "Test Error: \n",
      " Accuracy: 72.5%, Avg loss: 0.751413 \n",
      "\n",
      "Epoch 2\n",
      "-------------------------------\n",
      "loss: 0.732210  [   64/60000]\n",
      "loss: 0.822888  [ 6464/60000]\n",
      "loss: 0.600263  [12864/60000]\n",
      "loss: 0.812754  [19264/60000]\n",
      "loss: 0.715591  [25664/60000]\n",
      "loss: 0.711907  [32064/60000]\n",
      "loss: 0.792893  [38464/60000]\n",
      "loss: 0.772415  [44864/60000]\n",
      "loss: 0.773264  [51264/60000]\n",
      "loss: 0.733966  [57664/60000]\n",
      "Test Error: \n",
      " Accuracy: 73.6%, Avg loss: 0.729731 \n",
      "\n",
      "Epoch 3\n",
      "-------------------------------\n",
      "loss: 0.701178  [   64/60000]\n",
      "loss: 0.796831  [ 6464/60000]\n",
      "loss: 0.574798  [12864/60000]\n",
      "loss: 0.792814  [19264/60000]\n",
      "loss: 0.697338  [25664/60000]\n",
      "loss: 0.692081  [32064/60000]\n",
      "loss: 0.770115  [38464/60000]\n",
      "loss: 0.759074  [44864/60000]\n",
      "loss: 0.754502  [51264/60000]\n",
      "loss: 0.715371  [57664/60000]\n",
      "Test Error: \n",
      " Accuracy: 74.4%, Avg loss: 0.710401 \n",
      "\n",
      "Epoch 4\n",
      "-------------------------------\n",
      "loss: 0.673681  [   64/60000]\n",
      "loss: 0.772981  [ 6464/60000]\n",
      "loss: 0.552497  [12864/60000]\n",
      "loss: 0.775468  [19264/60000]\n",
      "loss: 0.681224  [25664/60000]\n",
      "loss: 0.675403  [32064/60000]\n",
      "loss: 0.748930  [38464/60000]\n",
      "loss: 0.747106  [44864/60000]\n",
      "loss: 0.738018  [51264/60000]\n",
      "loss: 0.698406  [57664/60000]\n",
      "Test Error: \n",
      " Accuracy: 75.3%, Avg loss: 0.692886 \n",
      "\n",
      "Epoch 5\n",
      "-------------------------------\n",
      "loss: 0.649062  [   64/60000]\n",
      "loss: 0.751005  [ 6464/60000]\n",
      "loss: 0.532784  [12864/60000]\n",
      "loss: 0.760017  [19264/60000]\n",
      "loss: 0.667039  [25664/60000]\n",
      "loss: 0.661073  [32064/60000]\n",
      "loss: 0.729169  [38464/60000]\n",
      "loss: 0.736083  [44864/60000]\n",
      "loss: 0.723429  [51264/60000]\n",
      "loss: 0.682829  [57664/60000]\n",
      "Test Error: \n",
      " Accuracy: 76.0%, Avg loss: 0.676872 \n",
      "\n",
      "Epoch 6\n",
      "-------------------------------\n",
      "loss: 0.626902  [   64/60000]\n",
      "loss: 0.730707  [ 6464/60000]\n",
      "loss: 0.515165  [12864/60000]\n",
      "loss: 0.746054  [19264/60000]\n",
      "loss: 0.654348  [25664/60000]\n",
      "loss: 0.648620  [32064/60000]\n",
      "loss: 0.710659  [38464/60000]\n",
      "loss: 0.725958  [44864/60000]\n",
      "loss: 0.710552  [51264/60000]\n",
      "loss: 0.668447  [57664/60000]\n",
      "Test Error: \n",
      " Accuracy: 76.8%, Avg loss: 0.662153 \n",
      "\n",
      "Epoch 7\n",
      "-------------------------------\n",
      "loss: 0.606879  [   64/60000]\n",
      "loss: 0.711968  [ 6464/60000]\n",
      "loss: 0.499265  [12864/60000]\n",
      "loss: 0.733220  [19264/60000]\n",
      "loss: 0.643080  [25664/60000]\n",
      "loss: 0.637787  [32064/60000]\n",
      "loss: 0.693224  [38464/60000]\n",
      "loss: 0.716849  [44864/60000]\n",
      "loss: 0.699160  [51264/60000]\n",
      "loss: 0.655083  [57664/60000]\n",
      "Test Error: \n",
      " Accuracy: 77.3%, Avg loss: 0.648603 \n",
      "\n",
      "Epoch 8\n",
      "-------------------------------\n",
      "loss: 0.588811  [   64/60000]\n",
      "loss: 0.694637  [ 6464/60000]\n",
      "loss: 0.484927  [12864/60000]\n",
      "loss: 0.721472  [19264/60000]\n",
      "loss: 0.633067  [25664/60000]\n",
      "loss: 0.628238  [32064/60000]\n",
      "loss: 0.676879  [38464/60000]\n",
      "loss: 0.708805  [44864/60000]\n",
      "loss: 0.689243  [51264/60000]\n",
      "loss: 0.642768  [57664/60000]\n",
      "Test Error: \n",
      " Accuracy: 77.8%, Avg loss: 0.636143 \n",
      "\n",
      "Epoch 9\n",
      "-------------------------------\n",
      "loss: 0.572365  [   64/60000]\n",
      "loss: 0.678662  [ 6464/60000]\n",
      "loss: 0.472001  [12864/60000]\n",
      "loss: 0.710568  [19264/60000]\n",
      "loss: 0.623979  [25664/60000]\n",
      "loss: 0.619827  [32064/60000]\n",
      "loss: 0.661658  [38464/60000]\n",
      "loss: 0.701764  [44864/60000]\n",
      "loss: 0.680680  [51264/60000]\n",
      "loss: 0.631359  [57664/60000]\n",
      "Test Error: \n",
      " Accuracy: 78.3%, Avg loss: 0.624696 \n",
      "\n",
      "Epoch 10\n",
      "-------------------------------\n",
      "loss: 0.557380  [   64/60000]\n",
      "loss: 0.663865  [ 6464/60000]\n",
      "loss: 0.460310  [12864/60000]\n",
      "loss: 0.700444  [19264/60000]\n",
      "loss: 0.615773  [25664/60000]\n",
      "loss: 0.612311  [32064/60000]\n",
      "loss: 0.647512  [38464/60000]\n",
      "loss: 0.695740  [44864/60000]\n",
      "loss: 0.673261  [51264/60000]\n",
      "loss: 0.620718  [57664/60000]\n",
      "Test Error: \n",
      " Accuracy: 78.7%, Avg loss: 0.614176 \n",
      "\n",
      "Done!\n"
     ]
    }
   ],
   "source": [
    "loss_fn = nn.CrossEntropyLoss()\n",
    "optimizer = torch.optim.SGD(model.parameters(), lr=learning_rate)\n",
    "\n",
    "epochs = 10\n",
    "for t in range(epochs):\n",
    "    print(f\"Epoch {t+1}\\n-------------------------------\")\n",
    "    train_loop(train_dataloader, model, loss_fn, optimizer)\n",
    "    test_loop(test_dataloader, model, loss_fn)\n",
    "print(\"Done!\")"
   ]
  },
  {
   "cell_type": "markdown",
   "metadata": {},
   "source": [
    "Further Reading\n",
    "===============\n",
    "\n",
    "-   [Loss\n",
    "    Functions](https://pytorch.org/docs/stable/nn.html#loss-functions)\n",
    "-   [torch.optim](https://pytorch.org/docs/stable/optim.html)\n",
    "-   [Warmstart Training a\n",
    "    Model](https://pytorch.org/tutorials/recipes/recipes/warmstarting_model_using_parameters_from_a_different_model.html)\n"
   ]
  },
  {
   "cell_type": "code",
   "execution_count": null,
   "metadata": {},
   "outputs": [],
   "source": []
  }
 ],
 "metadata": {
  "kernelspec": {
   "display_name": "Python 3 (ipykernel)",
   "language": "python",
   "name": "python3"
  },
  "language_info": {
   "codemirror_mode": {
    "name": "ipython",
    "version": 3
   },
   "file_extension": ".py",
   "mimetype": "text/x-python",
   "name": "python",
   "nbconvert_exporter": "python",
   "pygments_lexer": "ipython3",
   "version": "3.12.6"
  }
 },
 "nbformat": 4,
 "nbformat_minor": 4
}
